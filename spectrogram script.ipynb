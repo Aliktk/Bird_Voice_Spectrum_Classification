{
 "cells": [
  {
   "cell_type": "code",
   "execution_count": null,
   "id": "344732c4",
   "metadata": {},
   "outputs": [],
   "source": []
  },
  {
   "cell_type": "code",
   "execution_count": null,
   "id": "f4746a28",
   "metadata": {},
   "outputs": [],
   "source": []
  },
  {
   "cell_type": "code",
   "execution_count": null,
   "id": "4eb2d187",
   "metadata": {},
   "outputs": [],
   "source": []
  },
  {
   "cell_type": "code",
   "execution_count": 9,
   "id": "a2f9ffc5",
   "metadata": {},
   "outputs": [],
   "source": [
    "from pathlib import Path\n",
    "import matplotlib.pyplot as plot\n",
    "from scipy.io import wavfile\n",
    "\n",
    "path = Path('C:/Users/Ali/Desktop/Bird Voice Classification/spectrgram_dataset/').glob('**/*.wav')\n",
    "wavs = [str(wavf) for wavf in path if wavf.is_file()]\n",
    "wavs.sort()\n",
    "\n",
    "number_of_files=len(wavs)\n",
    "\n",
    "spk_ID = [wavs[i].split('/')[-1].lower() for i in range(number_of_files)]\n",
    "\n",
    "for i in range(number_of_files):\n",
    "    samplingfrequency, signaldata = wavfile.read(wavs[i])\n",
    "    pxx, freq, bins, im = plot.specgram(x=signaldata, Fs=samplingfrequency, noverlap=384, NFFT=512)\n",
    "    plot.title('spec of vowel')\n",
    "    plot.xlabel('time')\n",
    "    plot.ylabel('freq')\n",
    "    plot.savefig(\"spk_ID:{}.png\".format(spk_ID[i]), bbox_inches='tight', dpi=300, frameon='false')"
   ]
  },
  {
   "cell_type": "code",
   "execution_count": 13,
   "id": "8fe2dfcd",
   "metadata": {},
   "outputs": [
    {
     "ename": "ValueError",
     "evalue": "File format b'ID3\\x04' not understood. Only 'RIFF' and 'RIFX' supported.",
     "output_type": "error",
     "traceback": [
      "\u001b[1;31m---------------------------------------------------------------------------\u001b[0m",
      "\u001b[1;31mValueError\u001b[0m                                Traceback (most recent call last)",
      "\u001b[1;32m<ipython-input-13-b2c61f2c64b2>\u001b[0m in \u001b[0;36m<module>\u001b[1;34m\u001b[0m\n\u001b[0;32m      8\u001b[0m \u001b[1;33m\u001b[0m\u001b[0m\n\u001b[0;32m      9\u001b[0m \u001b[1;31m# if __name__=='__main__':\u001b[0m\u001b[1;33m\u001b[0m\u001b[1;33m\u001b[0m\u001b[1;33m\u001b[0m\u001b[0m\n\u001b[1;32m---> 10\u001b[1;33m \u001b[0mgraph_spectrogram\u001b[0m\u001b[1;33m(\u001b[0m\u001b[1;34m'C:/Users/Ali/Desktop/Bird Voice Classification/spectrgram_dataset/aldfly/XC2628.mp3'\u001b[0m\u001b[1;33m)\u001b[0m\u001b[1;33m\u001b[0m\u001b[1;33m\u001b[0m\u001b[0m\n\u001b[0m",
      "\u001b[1;32m<ipython-input-13-b2c61f2c64b2>\u001b[0m in \u001b[0;36mgraph_spectrogram\u001b[1;34m(wav_file)\u001b[0m\n\u001b[0;32m      1\u001b[0m \u001b[1;32mdef\u001b[0m \u001b[0mgraph_spectrogram\u001b[0m\u001b[1;33m(\u001b[0m\u001b[0mwav_file\u001b[0m\u001b[1;33m)\u001b[0m\u001b[1;33m:\u001b[0m\u001b[1;33m\u001b[0m\u001b[1;33m\u001b[0m\u001b[0m\n\u001b[1;32m----> 2\u001b[1;33m     \u001b[0mwavs\u001b[0m \u001b[1;33m=\u001b[0m \u001b[0mrate\u001b[0m\u001b[1;33m,\u001b[0m \u001b[0mdata\u001b[0m \u001b[1;33m=\u001b[0m \u001b[0mwavfile\u001b[0m\u001b[1;33m.\u001b[0m\u001b[0mread\u001b[0m\u001b[1;33m(\u001b[0m\u001b[0mwav_file\u001b[0m\u001b[1;33m)\u001b[0m\u001b[1;33m\u001b[0m\u001b[1;33m\u001b[0m\u001b[0m\n\u001b[0m\u001b[0;32m      3\u001b[0m     \u001b[0mpxx\u001b[0m\u001b[1;33m,\u001b[0m \u001b[0mfreq\u001b[0m\u001b[1;33m,\u001b[0m \u001b[0mbins\u001b[0m\u001b[1;33m,\u001b[0m \u001b[0mim\u001b[0m \u001b[1;33m=\u001b[0m \u001b[0mplt\u001b[0m\u001b[1;33m.\u001b[0m\u001b[0mspecgram\u001b[0m\u001b[1;33m(\u001b[0m\u001b[0mx\u001b[0m\u001b[1;33m=\u001b[0m\u001b[0mdata\u001b[0m\u001b[1;33m,\u001b[0m \u001b[0mFs\u001b[0m\u001b[1;33m=\u001b[0m\u001b[0mrate\u001b[0m\u001b[1;33m,\u001b[0m \u001b[0mnoverlap\u001b[0m\u001b[1;33m=\u001b[0m\u001b[1;36m384\u001b[0m\u001b[1;33m,\u001b[0m \u001b[0mNFFT\u001b[0m\u001b[1;33m=\u001b[0m\u001b[1;36m512\u001b[0m\u001b[1;33m)\u001b[0m\u001b[1;33m\u001b[0m\u001b[1;33m\u001b[0m\u001b[0m\n\u001b[0;32m      4\u001b[0m     \u001b[0mspk_ID\u001b[0m \u001b[1;33m=\u001b[0m \u001b[1;33m[\u001b[0m\u001b[0mwavs\u001b[0m\u001b[1;33m.\u001b[0m\u001b[0msplit\u001b[0m\u001b[1;33m(\u001b[0m\u001b[1;34m'/'\u001b[0m\u001b[1;33m)\u001b[0m\u001b[1;33m[\u001b[0m\u001b[1;33m-\u001b[0m\u001b[1;36m1\u001b[0m\u001b[1;33m]\u001b[0m\u001b[1;33m.\u001b[0m\u001b[0mlower\u001b[0m\u001b[1;33m(\u001b[0m\u001b[1;33m)\u001b[0m\u001b[1;33m]\u001b[0m\u001b[1;33m\u001b[0m\u001b[1;33m\u001b[0m\u001b[0m\n\u001b[0;32m      5\u001b[0m     \u001b[0mplt\u001b[0m\u001b[1;33m.\u001b[0m\u001b[0mxlabel\u001b[0m\u001b[1;33m(\u001b[0m\u001b[1;34m'time'\u001b[0m\u001b[1;33m)\u001b[0m\u001b[1;33m\u001b[0m\u001b[1;33m\u001b[0m\u001b[0m\n",
      "\u001b[1;32m~\\anaconda3\\envs\\chest-xray\\lib\\site-packages\\scipy\\io\\wavfile.py\u001b[0m in \u001b[0;36mread\u001b[1;34m(filename, mmap)\u001b[0m\n\u001b[0;32m    545\u001b[0m \u001b[1;33m\u001b[0m\u001b[0m\n\u001b[0;32m    546\u001b[0m     \u001b[1;32mtry\u001b[0m\u001b[1;33m:\u001b[0m\u001b[1;33m\u001b[0m\u001b[1;33m\u001b[0m\u001b[0m\n\u001b[1;32m--> 547\u001b[1;33m         \u001b[0mfile_size\u001b[0m\u001b[1;33m,\u001b[0m \u001b[0mis_big_endian\u001b[0m \u001b[1;33m=\u001b[0m \u001b[0m_read_riff_chunk\u001b[0m\u001b[1;33m(\u001b[0m\u001b[0mfid\u001b[0m\u001b[1;33m)\u001b[0m\u001b[1;33m\u001b[0m\u001b[1;33m\u001b[0m\u001b[0m\n\u001b[0m\u001b[0;32m    548\u001b[0m         \u001b[0mfmt_chunk_received\u001b[0m \u001b[1;33m=\u001b[0m \u001b[1;32mFalse\u001b[0m\u001b[1;33m\u001b[0m\u001b[1;33m\u001b[0m\u001b[0m\n\u001b[0;32m    549\u001b[0m         \u001b[0mdata_chunk_received\u001b[0m \u001b[1;33m=\u001b[0m \u001b[1;32mFalse\u001b[0m\u001b[1;33m\u001b[0m\u001b[1;33m\u001b[0m\u001b[0m\n",
      "\u001b[1;32m~\\anaconda3\\envs\\chest-xray\\lib\\site-packages\\scipy\\io\\wavfile.py\u001b[0m in \u001b[0;36m_read_riff_chunk\u001b[1;34m(fid)\u001b[0m\n\u001b[0;32m    444\u001b[0m     \u001b[1;32melse\u001b[0m\u001b[1;33m:\u001b[0m\u001b[1;33m\u001b[0m\u001b[1;33m\u001b[0m\u001b[0m\n\u001b[0;32m    445\u001b[0m         \u001b[1;31m# There are also .wav files with \"FFIR\" or \"XFIR\" signatures?\u001b[0m\u001b[1;33m\u001b[0m\u001b[1;33m\u001b[0m\u001b[1;33m\u001b[0m\u001b[0m\n\u001b[1;32m--> 446\u001b[1;33m         raise ValueError(f\"File format {repr(str1)} not understood. Only \"\n\u001b[0m\u001b[0;32m    447\u001b[0m                          \"'RIFF' and 'RIFX' supported.\")\n\u001b[0;32m    448\u001b[0m \u001b[1;33m\u001b[0m\u001b[0m\n",
      "\u001b[1;31mValueError\u001b[0m: File format b'ID3\\x04' not understood. Only 'RIFF' and 'RIFX' supported."
     ]
    }
   ],
   "source": [
    "def graph_spectrogram(wav_file):\n",
    "    wavs = rate, data = wavfile.read(wav_file)\n",
    "    pxx, freq, bins, im = plt.specgram(x=data, Fs=rate, noverlap=384, NFFT=512)\n",
    "    spk_ID = [wavs.split('/')[-1].lower()]\n",
    "    plt.xlabel('time')\n",
    "    plt.ylabel('freq')\n",
    "    plt.savefig('C:/Users/Ali/Desktop/Bird Voice Classification/spectrgram_dataset/xyz.png',bbox_inches='tight', dpi=300, frameon='false')\n",
    "\n",
    "# if __name__=='__main__':\n",
    "graph_spectrogram('C:/Users/Ali/Desktop/Bird Voice Classification/spectrgram_dataset/aldfly/XC2628.mp3')"
   ]
  },
  {
   "cell_type": "code",
   "execution_count": 15,
   "id": "74c4c07b",
   "metadata": {},
   "outputs": [],
   "source": [
    "import os"
   ]
  },
  {
   "cell_type": "code",
   "execution_count": 17,
   "id": "7cea082f",
   "metadata": {},
   "outputs": [],
   "source": [
    "def get_spectrogram(wav):\n",
    "    D = librosa.stft(wav, n_fft=1080, hop_length=160,win_length=1080, window='hamming')\n",
    "    spect, phase = librosa.magphase(D)\n",
    "    return spect\n",
    "outputdir = 'C:/Users/Ali/Desktop/Bird Voice Classification/spectrgram_dataset/out'\n",
    "for roots, directories,files in os.walk('C:/Users/Ali/Desktop/Bird Voice Classification/spectrgram_dataset/aldfly'):\n",
    "    for filename in files:\n",
    "        if filename.endswith(\".wav\"):\n",
    "            wav, sr = librosa.load(filename, sr=None)\n",
    "            ipd.Audio(wav, rate=sr)\n",
    "            log_spect = np.log(get_spectrogram(wav))\n",
    "            plt.tick_params(top='off', bottom='off', left='off', right='off', labelleft='off', labelbottom='off')\n",
    "            ax = plt.axes()\n",
    "            ax.set_axis_off()\n",
    "            plt.imshow(log_spect, aspect='auto', origin='hight')\n",
    "            plot_name = f\"{filename[:-4]}.png\"\n",
    "            print(\"abc\")\n",
    "            plt.savefig(outputdir + \"/\" + plot_name, dpi=1000, bbox_inches='tight', transparent=True)"
   ]
  },
  {
   "cell_type": "code",
   "execution_count": null,
   "id": "1fcc38c8",
   "metadata": {},
   "outputs": [],
   "source": []
  }
 ],
 "metadata": {
  "kernelspec": {
   "display_name": "chest-xray",
   "language": "python",
   "name": "chest-xray"
  },
  "language_info": {
   "codemirror_mode": {
    "name": "ipython",
    "version": 3
   },
   "file_extension": ".py",
   "mimetype": "text/x-python",
   "name": "python",
   "nbconvert_exporter": "python",
   "pygments_lexer": "ipython3",
   "version": "3.6.13"
  }
 },
 "nbformat": 4,
 "nbformat_minor": 5
}
